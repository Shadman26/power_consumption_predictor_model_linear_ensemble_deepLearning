{
 "cells": [
  {
   "cell_type": "markdown",
   "metadata": {},
   "source": [
    "## 1. Import Dependencies"
   ]
  },
  {
   "cell_type": "code",
   "execution_count": 500,
   "metadata": {},
   "outputs": [],
   "source": [
    "import numpy as np\n",
    "import pandas as pd\n",
    "import matplotlib.pyplot as plt\n",
    "import seaborn as sns\n",
    "from sklearn.model_selection import train_test_split\n",
    "from sklearn.preprocessing import MinMaxScaler\n",
    "from sklearn.preprocessing import StandardScaler\n",
    "from numpy import mean\n",
    "from numpy import std\n",
    "from numpy import absolute\n",
    "from pandas import read_csv\n",
    "from sklearn.linear_model import Ridge\n",
    "from sklearn import svm\n",
    "import tensorflow as tf\n",
    "from tensorflow.keras.models import Sequential\n",
    "from tensorflow.keras.layers import Dense, Dropout\n",
    "from tensorflow.keras.callbacks import EarlyStopping\n",
    "from tensorflow.keras.losses import MeanSquaredLogarithmicError\n",
    "from sklearn import metrics\n",
    "#from sklearn.model_selection import RepeatedKFold\n",
    "\n",
    "%matplotlib inline"
   ]
  },
  {
   "cell_type": "markdown",
   "metadata": {},
   "source": [
    "#### Load Data from CSV file"
   ]
  },
  {
   "cell_type": "code",
   "execution_count": 126,
   "metadata": {},
   "outputs": [],
   "source": [
    "data = pd.read_csv(\"recs2009_public.csv\", low_memory = False)"
   ]
  },
  {
   "cell_type": "code",
   "execution_count": 127,
   "metadata": {},
   "outputs": [
    {
     "data": {
      "text/html": [
       "<div>\n",
       "<style scoped>\n",
       "    .dataframe tbody tr th:only-of-type {\n",
       "        vertical-align: middle;\n",
       "    }\n",
       "\n",
       "    .dataframe tbody tr th {\n",
       "        vertical-align: top;\n",
       "    }\n",
       "\n",
       "    .dataframe thead th {\n",
       "        text-align: right;\n",
       "    }\n",
       "</style>\n",
       "<table border=\"1\" class=\"dataframe\">\n",
       "  <thead>\n",
       "    <tr style=\"text-align: right;\">\n",
       "      <th></th>\n",
       "      <th>DOEID</th>\n",
       "      <th>REGIONC</th>\n",
       "      <th>DIVISION</th>\n",
       "      <th>REPORTABLE_DOMAIN</th>\n",
       "      <th>TYPEHUQ</th>\n",
       "      <th>NWEIGHT</th>\n",
       "      <th>HDD65</th>\n",
       "      <th>CDD65</th>\n",
       "      <th>HDD30YR</th>\n",
       "      <th>CDD30YR</th>\n",
       "      <th>...</th>\n",
       "      <th>SCALEKER</th>\n",
       "      <th>IECC_Climate_Pub</th>\n",
       "      <th>HDD50</th>\n",
       "      <th>CDD80</th>\n",
       "      <th>GND_HDD65</th>\n",
       "      <th>WSF</th>\n",
       "      <th>OA_LAT</th>\n",
       "      <th>GWT</th>\n",
       "      <th>DesignDBT99</th>\n",
       "      <th>DesignDBT1</th>\n",
       "    </tr>\n",
       "  </thead>\n",
       "  <tbody>\n",
       "    <tr>\n",
       "      <th>0</th>\n",
       "      <td>1</td>\n",
       "      <td>2</td>\n",
       "      <td>4</td>\n",
       "      <td>12</td>\n",
       "      <td>2</td>\n",
       "      <td>2471.68</td>\n",
       "      <td>4742</td>\n",
       "      <td>1080</td>\n",
       "      <td>4953</td>\n",
       "      <td>1271</td>\n",
       "      <td>...</td>\n",
       "      <td>-2</td>\n",
       "      <td>4A</td>\n",
       "      <td>2117</td>\n",
       "      <td>56</td>\n",
       "      <td>4250</td>\n",
       "      <td>0.48</td>\n",
       "      <td>6</td>\n",
       "      <td>56</td>\n",
       "      <td>9</td>\n",
       "      <td>96</td>\n",
       "    </tr>\n",
       "    <tr>\n",
       "      <th>1</th>\n",
       "      <td>2</td>\n",
       "      <td>4</td>\n",
       "      <td>10</td>\n",
       "      <td>26</td>\n",
       "      <td>2</td>\n",
       "      <td>8599.17</td>\n",
       "      <td>2662</td>\n",
       "      <td>199</td>\n",
       "      <td>2688</td>\n",
       "      <td>143</td>\n",
       "      <td>...</td>\n",
       "      <td>-2</td>\n",
       "      <td>3C</td>\n",
       "      <td>62</td>\n",
       "      <td>26</td>\n",
       "      <td>2393</td>\n",
       "      <td>0.61</td>\n",
       "      <td>0</td>\n",
       "      <td>64</td>\n",
       "      <td>38</td>\n",
       "      <td>73</td>\n",
       "    </tr>\n",
       "    <tr>\n",
       "      <th>2</th>\n",
       "      <td>3</td>\n",
       "      <td>1</td>\n",
       "      <td>1</td>\n",
       "      <td>1</td>\n",
       "      <td>5</td>\n",
       "      <td>8969.92</td>\n",
       "      <td>6233</td>\n",
       "      <td>505</td>\n",
       "      <td>5741</td>\n",
       "      <td>829</td>\n",
       "      <td>...</td>\n",
       "      <td>-2</td>\n",
       "      <td>5A</td>\n",
       "      <td>2346</td>\n",
       "      <td>49</td>\n",
       "      <td>5654</td>\n",
       "      <td>0.48</td>\n",
       "      <td>3</td>\n",
       "      <td>52</td>\n",
       "      <td>12</td>\n",
       "      <td>88</td>\n",
       "    </tr>\n",
       "    <tr>\n",
       "      <th>3</th>\n",
       "      <td>4</td>\n",
       "      <td>2</td>\n",
       "      <td>3</td>\n",
       "      <td>7</td>\n",
       "      <td>2</td>\n",
       "      <td>18003.64</td>\n",
       "      <td>6034</td>\n",
       "      <td>672</td>\n",
       "      <td>5781</td>\n",
       "      <td>868</td>\n",
       "      <td>...</td>\n",
       "      <td>-2</td>\n",
       "      <td>5A</td>\n",
       "      <td>2746</td>\n",
       "      <td>0</td>\n",
       "      <td>4941</td>\n",
       "      <td>0.55</td>\n",
       "      <td>4</td>\n",
       "      <td>55</td>\n",
       "      <td>7</td>\n",
       "      <td>87</td>\n",
       "    </tr>\n",
       "    <tr>\n",
       "      <th>4</th>\n",
       "      <td>5</td>\n",
       "      <td>1</td>\n",
       "      <td>1</td>\n",
       "      <td>1</td>\n",
       "      <td>3</td>\n",
       "      <td>5999.61</td>\n",
       "      <td>5388</td>\n",
       "      <td>702</td>\n",
       "      <td>5313</td>\n",
       "      <td>797</td>\n",
       "      <td>...</td>\n",
       "      <td>-2</td>\n",
       "      <td>5A</td>\n",
       "      <td>2251</td>\n",
       "      <td>0</td>\n",
       "      <td>5426</td>\n",
       "      <td>0.61</td>\n",
       "      <td>4</td>\n",
       "      <td>50</td>\n",
       "      <td>13</td>\n",
       "      <td>90</td>\n",
       "    </tr>\n",
       "  </tbody>\n",
       "</table>\n",
       "<p>5 rows × 940 columns</p>\n",
       "</div>"
      ],
      "text/plain": [
       "   DOEID  REGIONC  DIVISION  REPORTABLE_DOMAIN  TYPEHUQ   NWEIGHT  HDD65  \\\n",
       "0      1        2         4                 12        2   2471.68   4742   \n",
       "1      2        4        10                 26        2   8599.17   2662   \n",
       "2      3        1         1                  1        5   8969.92   6233   \n",
       "3      4        2         3                  7        2  18003.64   6034   \n",
       "4      5        1         1                  1        3   5999.61   5388   \n",
       "\n",
       "   CDD65  HDD30YR  CDD30YR  ...  SCALEKER  IECC_Climate_Pub HDD50 CDD80  \\\n",
       "0   1080     4953     1271  ...        -2                4A  2117    56   \n",
       "1    199     2688      143  ...        -2                3C    62    26   \n",
       "2    505     5741      829  ...        -2                5A  2346    49   \n",
       "3    672     5781      868  ...        -2                5A  2746     0   \n",
       "4    702     5313      797  ...        -2                5A  2251     0   \n",
       "\n",
       "   GND_HDD65   WSF  OA_LAT  GWT  DesignDBT99  DesignDBT1  \n",
       "0       4250  0.48       6   56            9          96  \n",
       "1       2393  0.61       0   64           38          73  \n",
       "2       5654  0.48       3   52           12          88  \n",
       "3       4941  0.55       4   55            7          87  \n",
       "4       5426  0.61       4   50           13          90  \n",
       "\n",
       "[5 rows x 940 columns]"
      ]
     },
     "execution_count": 127,
     "metadata": {},
     "output_type": "execute_result"
    }
   ],
   "source": [
    "data.head()"
   ]
  },
  {
   "cell_type": "markdown",
   "metadata": {},
   "source": [
    "## 2. Data Engineering (Cleaning, Assertion of DataTypes, Encoding and Train, test and validation split and scaling)"
   ]
  },
  {
   "cell_type": "markdown",
   "metadata": {},
   "source": [
    "### Extract 'Imputation flag' columns and drop from the Data"
   ]
  },
  {
   "cell_type": "code",
   "execution_count": 128,
   "metadata": {},
   "outputs": [
    {
     "name": "stdout",
     "output_type": "stream",
     "text": [
      "359\n",
      "['ZKOWNRENT', 'ZCONDCOOP', 'ZYEARMADE', 'ZYEARMADERANGE', 'ZOCCUPYYRANGE', 'ZCONVERSION', 'ZORIG1FAM', 'ZLOOKLIKE', 'ZNUMFLRS', 'ZNUMAPTS', 'ZWALLTYPE', 'ZROOFTYPE', 'ZSTUDIO', 'ZNAPTFLRS', 'ZSTORIES', 'ZTYPEHUQ4', 'ZBEDROOMS', 'ZNCOMBATH', 'ZNHAFBATH', 'ZOTHROOMS']\n"
     ]
    }
   ],
   "source": [
    "# Define a list to store 'Imputation flag Columns'\n",
    "imputation_cols = []\n",
    "# Append imputation flags to the imputation_cols list\n",
    "for i in data.columns:\n",
    "    if i.startswith('Z'):\n",
    "        imputation_cols.append(i)\n",
    "print(len(imputation_cols))\n",
    "print(imputation_cols[:20])"
   ]
  },
  {
   "cell_type": "code",
   "execution_count": 129,
   "metadata": {},
   "outputs": [],
   "source": [
    "# Drop Imputation flag columns from the dataframe 'data'\n",
    "data = data.drop(imputation_cols, axis = 1)"
   ]
  },
  {
   "cell_type": "code",
   "execution_count": 130,
   "metadata": {},
   "outputs": [
    {
     "data": {
      "text/html": [
       "<div>\n",
       "<style scoped>\n",
       "    .dataframe tbody tr th:only-of-type {\n",
       "        vertical-align: middle;\n",
       "    }\n",
       "\n",
       "    .dataframe tbody tr th {\n",
       "        vertical-align: top;\n",
       "    }\n",
       "\n",
       "    .dataframe thead th {\n",
       "        text-align: right;\n",
       "    }\n",
       "</style>\n",
       "<table border=\"1\" class=\"dataframe\">\n",
       "  <thead>\n",
       "    <tr style=\"text-align: right;\">\n",
       "      <th></th>\n",
       "      <th>DOEID</th>\n",
       "      <th>REGIONC</th>\n",
       "      <th>DIVISION</th>\n",
       "      <th>REPORTABLE_DOMAIN</th>\n",
       "      <th>TYPEHUQ</th>\n",
       "      <th>NWEIGHT</th>\n",
       "      <th>HDD65</th>\n",
       "      <th>CDD65</th>\n",
       "      <th>HDD30YR</th>\n",
       "      <th>CDD30YR</th>\n",
       "      <th>...</th>\n",
       "      <th>SCALEKER</th>\n",
       "      <th>IECC_Climate_Pub</th>\n",
       "      <th>HDD50</th>\n",
       "      <th>CDD80</th>\n",
       "      <th>GND_HDD65</th>\n",
       "      <th>WSF</th>\n",
       "      <th>OA_LAT</th>\n",
       "      <th>GWT</th>\n",
       "      <th>DesignDBT99</th>\n",
       "      <th>DesignDBT1</th>\n",
       "    </tr>\n",
       "  </thead>\n",
       "  <tbody>\n",
       "    <tr>\n",
       "      <th>0</th>\n",
       "      <td>1</td>\n",
       "      <td>2</td>\n",
       "      <td>4</td>\n",
       "      <td>12</td>\n",
       "      <td>2</td>\n",
       "      <td>2471.68</td>\n",
       "      <td>4742</td>\n",
       "      <td>1080</td>\n",
       "      <td>4953</td>\n",
       "      <td>1271</td>\n",
       "      <td>...</td>\n",
       "      <td>-2</td>\n",
       "      <td>4A</td>\n",
       "      <td>2117</td>\n",
       "      <td>56</td>\n",
       "      <td>4250</td>\n",
       "      <td>0.48</td>\n",
       "      <td>6</td>\n",
       "      <td>56</td>\n",
       "      <td>9</td>\n",
       "      <td>96</td>\n",
       "    </tr>\n",
       "    <tr>\n",
       "      <th>1</th>\n",
       "      <td>2</td>\n",
       "      <td>4</td>\n",
       "      <td>10</td>\n",
       "      <td>26</td>\n",
       "      <td>2</td>\n",
       "      <td>8599.17</td>\n",
       "      <td>2662</td>\n",
       "      <td>199</td>\n",
       "      <td>2688</td>\n",
       "      <td>143</td>\n",
       "      <td>...</td>\n",
       "      <td>-2</td>\n",
       "      <td>3C</td>\n",
       "      <td>62</td>\n",
       "      <td>26</td>\n",
       "      <td>2393</td>\n",
       "      <td>0.61</td>\n",
       "      <td>0</td>\n",
       "      <td>64</td>\n",
       "      <td>38</td>\n",
       "      <td>73</td>\n",
       "    </tr>\n",
       "    <tr>\n",
       "      <th>2</th>\n",
       "      <td>3</td>\n",
       "      <td>1</td>\n",
       "      <td>1</td>\n",
       "      <td>1</td>\n",
       "      <td>5</td>\n",
       "      <td>8969.92</td>\n",
       "      <td>6233</td>\n",
       "      <td>505</td>\n",
       "      <td>5741</td>\n",
       "      <td>829</td>\n",
       "      <td>...</td>\n",
       "      <td>-2</td>\n",
       "      <td>5A</td>\n",
       "      <td>2346</td>\n",
       "      <td>49</td>\n",
       "      <td>5654</td>\n",
       "      <td>0.48</td>\n",
       "      <td>3</td>\n",
       "      <td>52</td>\n",
       "      <td>12</td>\n",
       "      <td>88</td>\n",
       "    </tr>\n",
       "    <tr>\n",
       "      <th>3</th>\n",
       "      <td>4</td>\n",
       "      <td>2</td>\n",
       "      <td>3</td>\n",
       "      <td>7</td>\n",
       "      <td>2</td>\n",
       "      <td>18003.64</td>\n",
       "      <td>6034</td>\n",
       "      <td>672</td>\n",
       "      <td>5781</td>\n",
       "      <td>868</td>\n",
       "      <td>...</td>\n",
       "      <td>-2</td>\n",
       "      <td>5A</td>\n",
       "      <td>2746</td>\n",
       "      <td>0</td>\n",
       "      <td>4941</td>\n",
       "      <td>0.55</td>\n",
       "      <td>4</td>\n",
       "      <td>55</td>\n",
       "      <td>7</td>\n",
       "      <td>87</td>\n",
       "    </tr>\n",
       "    <tr>\n",
       "      <th>4</th>\n",
       "      <td>5</td>\n",
       "      <td>1</td>\n",
       "      <td>1</td>\n",
       "      <td>1</td>\n",
       "      <td>3</td>\n",
       "      <td>5999.61</td>\n",
       "      <td>5388</td>\n",
       "      <td>702</td>\n",
       "      <td>5313</td>\n",
       "      <td>797</td>\n",
       "      <td>...</td>\n",
       "      <td>-2</td>\n",
       "      <td>5A</td>\n",
       "      <td>2251</td>\n",
       "      <td>0</td>\n",
       "      <td>5426</td>\n",
       "      <td>0.61</td>\n",
       "      <td>4</td>\n",
       "      <td>50</td>\n",
       "      <td>13</td>\n",
       "      <td>90</td>\n",
       "    </tr>\n",
       "    <tr>\n",
       "      <th>...</th>\n",
       "      <td>...</td>\n",
       "      <td>...</td>\n",
       "      <td>...</td>\n",
       "      <td>...</td>\n",
       "      <td>...</td>\n",
       "      <td>...</td>\n",
       "      <td>...</td>\n",
       "      <td>...</td>\n",
       "      <td>...</td>\n",
       "      <td>...</td>\n",
       "      <td>...</td>\n",
       "      <td>...</td>\n",
       "      <td>...</td>\n",
       "      <td>...</td>\n",
       "      <td>...</td>\n",
       "      <td>...</td>\n",
       "      <td>...</td>\n",
       "      <td>...</td>\n",
       "      <td>...</td>\n",
       "      <td>...</td>\n",
       "      <td>...</td>\n",
       "    </tr>\n",
       "    <tr>\n",
       "      <th>12078</th>\n",
       "      <td>12079</td>\n",
       "      <td>2</td>\n",
       "      <td>3</td>\n",
       "      <td>9</td>\n",
       "      <td>2</td>\n",
       "      <td>10219.80</td>\n",
       "      <td>7671</td>\n",
       "      <td>332</td>\n",
       "      <td>7784</td>\n",
       "      <td>451</td>\n",
       "      <td>...</td>\n",
       "      <td>-2</td>\n",
       "      <td>6A-6B</td>\n",
       "      <td>4289</td>\n",
       "      <td>39</td>\n",
       "      <td>7819</td>\n",
       "      <td>0.59</td>\n",
       "      <td>0</td>\n",
       "      <td>48</td>\n",
       "      <td>-3</td>\n",
       "      <td>84</td>\n",
       "    </tr>\n",
       "    <tr>\n",
       "      <th>12079</th>\n",
       "      <td>12080</td>\n",
       "      <td>3</td>\n",
       "      <td>7</td>\n",
       "      <td>21</td>\n",
       "      <td>4</td>\n",
       "      <td>8689.07</td>\n",
       "      <td>2085</td>\n",
       "      <td>2844</td>\n",
       "      <td>2520</td>\n",
       "      <td>2286</td>\n",
       "      <td>...</td>\n",
       "      <td>-2</td>\n",
       "      <td>3B-4B</td>\n",
       "      <td>360</td>\n",
       "      <td>393</td>\n",
       "      <td>1869</td>\n",
       "      <td>0.50</td>\n",
       "      <td>0</td>\n",
       "      <td>56</td>\n",
       "      <td>26</td>\n",
       "      <td>101</td>\n",
       "    </tr>\n",
       "    <tr>\n",
       "      <th>12080</th>\n",
       "      <td>12081</td>\n",
       "      <td>2</td>\n",
       "      <td>4</td>\n",
       "      <td>10</td>\n",
       "      <td>2</td>\n",
       "      <td>4697.21</td>\n",
       "      <td>7935</td>\n",
       "      <td>472</td>\n",
       "      <td>8074</td>\n",
       "      <td>600</td>\n",
       "      <td>...</td>\n",
       "      <td>-2</td>\n",
       "      <td>6A-6B</td>\n",
       "      <td>4494</td>\n",
       "      <td>22</td>\n",
       "      <td>8477</td>\n",
       "      <td>0.58</td>\n",
       "      <td>1</td>\n",
       "      <td>46</td>\n",
       "      <td>-9</td>\n",
       "      <td>89</td>\n",
       "    </tr>\n",
       "    <tr>\n",
       "      <th>12081</th>\n",
       "      <td>12082</td>\n",
       "      <td>4</td>\n",
       "      <td>8</td>\n",
       "      <td>23</td>\n",
       "      <td>2</td>\n",
       "      <td>13155.68</td>\n",
       "      <td>5834</td>\n",
       "      <td>770</td>\n",
       "      <td>5989</td>\n",
       "      <td>957</td>\n",
       "      <td>...</td>\n",
       "      <td>-2</td>\n",
       "      <td>5B-5C</td>\n",
       "      <td>2840</td>\n",
       "      <td>0</td>\n",
       "      <td>9010</td>\n",
       "      <td>0.54</td>\n",
       "      <td>1</td>\n",
       "      <td>53</td>\n",
       "      <td>13</td>\n",
       "      <td>93</td>\n",
       "    </tr>\n",
       "    <tr>\n",
       "      <th>12082</th>\n",
       "      <td>12083</td>\n",
       "      <td>4</td>\n",
       "      <td>10</td>\n",
       "      <td>26</td>\n",
       "      <td>2</td>\n",
       "      <td>7703.43</td>\n",
       "      <td>2806</td>\n",
       "      <td>124</td>\n",
       "      <td>2859</td>\n",
       "      <td>139</td>\n",
       "      <td>...</td>\n",
       "      <td>-2</td>\n",
       "      <td>3C</td>\n",
       "      <td>92</td>\n",
       "      <td>0</td>\n",
       "      <td>3048</td>\n",
       "      <td>0.53</td>\n",
       "      <td>0</td>\n",
       "      <td>60</td>\n",
       "      <td>44</td>\n",
       "      <td>75</td>\n",
       "    </tr>\n",
       "  </tbody>\n",
       "</table>\n",
       "<p>12083 rows × 581 columns</p>\n",
       "</div>"
      ],
      "text/plain": [
       "       DOEID  REGIONC  DIVISION  REPORTABLE_DOMAIN  TYPEHUQ   NWEIGHT  HDD65  \\\n",
       "0          1        2         4                 12        2   2471.68   4742   \n",
       "1          2        4        10                 26        2   8599.17   2662   \n",
       "2          3        1         1                  1        5   8969.92   6233   \n",
       "3          4        2         3                  7        2  18003.64   6034   \n",
       "4          5        1         1                  1        3   5999.61   5388   \n",
       "...      ...      ...       ...                ...      ...       ...    ...   \n",
       "12078  12079        2         3                  9        2  10219.80   7671   \n",
       "12079  12080        3         7                 21        4   8689.07   2085   \n",
       "12080  12081        2         4                 10        2   4697.21   7935   \n",
       "12081  12082        4         8                 23        2  13155.68   5834   \n",
       "12082  12083        4        10                 26        2   7703.43   2806   \n",
       "\n",
       "       CDD65  HDD30YR  CDD30YR  ...  SCALEKER  IECC_Climate_Pub HDD50 CDD80  \\\n",
       "0       1080     4953     1271  ...        -2                4A  2117    56   \n",
       "1        199     2688      143  ...        -2                3C    62    26   \n",
       "2        505     5741      829  ...        -2                5A  2346    49   \n",
       "3        672     5781      868  ...        -2                5A  2746     0   \n",
       "4        702     5313      797  ...        -2                5A  2251     0   \n",
       "...      ...      ...      ...  ...       ...               ...   ...   ...   \n",
       "12078    332     7784      451  ...        -2             6A-6B  4289    39   \n",
       "12079   2844     2520     2286  ...        -2             3B-4B   360   393   \n",
       "12080    472     8074      600  ...        -2             6A-6B  4494    22   \n",
       "12081    770     5989      957  ...        -2             5B-5C  2840     0   \n",
       "12082    124     2859      139  ...        -2                3C    92     0   \n",
       "\n",
       "       GND_HDD65   WSF  OA_LAT  GWT  DesignDBT99  DesignDBT1  \n",
       "0           4250  0.48       6   56            9          96  \n",
       "1           2393  0.61       0   64           38          73  \n",
       "2           5654  0.48       3   52           12          88  \n",
       "3           4941  0.55       4   55            7          87  \n",
       "4           5426  0.61       4   50           13          90  \n",
       "...          ...   ...     ...  ...          ...         ...  \n",
       "12078       7819  0.59       0   48           -3          84  \n",
       "12079       1869  0.50       0   56           26         101  \n",
       "12080       8477  0.58       1   46           -9          89  \n",
       "12081       9010  0.54       1   53           13          93  \n",
       "12082       3048  0.53       0   60           44          75  \n",
       "\n",
       "[12083 rows x 581 columns]"
      ]
     },
     "execution_count": 130,
     "metadata": {},
     "output_type": "execute_result"
    }
   ],
   "source": [
    "data"
   ]
  },
  {
   "cell_type": "code",
   "execution_count": 131,
   "metadata": {},
   "outputs": [
    {
     "data": {
      "text/plain": [
       "DOEID                  int64\n",
       "REGIONC                int64\n",
       "DIVISION               int64\n",
       "REPORTABLE_DOMAIN      int64\n",
       "TYPEHUQ                int64\n",
       "                      ...   \n",
       "WSF                  float64\n",
       "OA_LAT                 int64\n",
       "GWT                    int64\n",
       "DesignDBT99            int64\n",
       "DesignDBT1             int64\n",
       "Length: 581, dtype: object"
      ]
     },
     "execution_count": 131,
     "metadata": {},
     "output_type": "execute_result"
    }
   ],
   "source": [
    "#Data Types of the dataframe\n",
    "data.dtypes"
   ]
  },
  {
   "cell_type": "markdown",
   "metadata": {},
   "source": [
    "##### As we can see above, the datatypes of all the columns are either int64 or float64. Hence proper data types cannot be determined(categorical and boolean). To understand the data types of features and target vetors, We need to have a look at the provided description given in \"recs2009_public_codebook.xlsx\" file and extract the columns which are numerical, boolean and categorical. Then we assign the types to the columns."
   ]
  },
  {
   "cell_type": "code",
   "execution_count": 132,
   "metadata": {},
   "outputs": [
    {
     "data": {
      "text/html": [
       "<div>\n",
       "<style scoped>\n",
       "    .dataframe tbody tr th:only-of-type {\n",
       "        vertical-align: middle;\n",
       "    }\n",
       "\n",
       "    .dataframe tbody tr th {\n",
       "        vertical-align: top;\n",
       "    }\n",
       "\n",
       "    .dataframe thead th {\n",
       "        text-align: right;\n",
       "    }\n",
       "</style>\n",
       "<table border=\"1\" class=\"dataframe\">\n",
       "  <thead>\n",
       "    <tr style=\"text-align: right;\">\n",
       "      <th></th>\n",
       "      <th>Variable Name</th>\n",
       "      <th>Variable Description</th>\n",
       "      <th>Response Codes and Labels</th>\n",
       "      <th>Unnamed: 3</th>\n",
       "      <th>Variables in End-Use Models (see note at bottom)</th>\n",
       "      <th>Unnamed: 5</th>\n",
       "      <th>Unnamed: 6</th>\n",
       "      <th>Unnamed: 7</th>\n",
       "      <th>Unnamed: 8</th>\n",
       "    </tr>\n",
       "  </thead>\n",
       "  <tbody>\n",
       "    <tr>\n",
       "      <th>1</th>\n",
       "      <td>DOEID</td>\n",
       "      <td>Unique identifier for each respondent</td>\n",
       "      <td>00001 - 12083</td>\n",
       "      <td>Unique identifier for each respondent</td>\n",
       "      <td>NaN</td>\n",
       "      <td>NaN</td>\n",
       "      <td>NaN</td>\n",
       "      <td>NaN</td>\n",
       "      <td>NaN</td>\n",
       "    </tr>\n",
       "    <tr>\n",
       "      <th>2</th>\n",
       "      <td>REGIONC</td>\n",
       "      <td>Census Region</td>\n",
       "      <td>1\\n2\\n3\\n4</td>\n",
       "      <td>Northeast Census Region\\nMidwest Census Region...</td>\n",
       "      <td>NaN</td>\n",
       "      <td>NaN</td>\n",
       "      <td>NaN</td>\n",
       "      <td>NaN</td>\n",
       "      <td>NaN</td>\n",
       "    </tr>\n",
       "    <tr>\n",
       "      <th>3</th>\n",
       "      <td>DIVISION</td>\n",
       "      <td>Census Division</td>\n",
       "      <td>1\\n2\\n3\\n4\\n5\\n6\\n7\\n8\\n9\\n10</td>\n",
       "      <td>New England Census Division (CT, MA, ME, NH, R...</td>\n",
       "      <td>NaN</td>\n",
       "      <td>NaN</td>\n",
       "      <td>NaN</td>\n",
       "      <td>NaN</td>\n",
       "      <td>NaN</td>\n",
       "    </tr>\n",
       "    <tr>\n",
       "      <th>4</th>\n",
       "      <td>REPORTABLE_DOMAIN</td>\n",
       "      <td>Reportable states and groups of states</td>\n",
       "      <td>1\\n2\\n3\\n4\\n5\\n6\\n7\\n8\\n9\\n10\\n11\\n12\\n13\\n14\\...</td>\n",
       "      <td>\\nConnecticut, Maine, New Hampshire, Rhode Isl...</td>\n",
       "      <td>NaN</td>\n",
       "      <td>NaN</td>\n",
       "      <td>NaN</td>\n",
       "      <td>NaN</td>\n",
       "      <td>NaN</td>\n",
       "    </tr>\n",
       "    <tr>\n",
       "      <th>5</th>\n",
       "      <td>TYPEHUQ</td>\n",
       "      <td>Type of housing unit</td>\n",
       "      <td>1\\n2\\n3\\n4\\n5</td>\n",
       "      <td>Mobile Home\\nSingle-Family Detached\\nSingle-Fa...</td>\n",
       "      <td>OTH_B</td>\n",
       "      <td>SPH_A</td>\n",
       "      <td>NaN</td>\n",
       "      <td>NaN</td>\n",
       "      <td>NaN</td>\n",
       "    </tr>\n",
       "  </tbody>\n",
       "</table>\n",
       "</div>"
      ],
      "text/plain": [
       "       Variable Name                    Variable Description  \\\n",
       "1              DOEID   Unique identifier for each respondent   \n",
       "2            REGIONC                           Census Region   \n",
       "3           DIVISION                         Census Division   \n",
       "4  REPORTABLE_DOMAIN  Reportable states and groups of states   \n",
       "5            TYPEHUQ                    Type of housing unit   \n",
       "\n",
       "                           Response Codes and Labels  \\\n",
       "1                                      00001 - 12083   \n",
       "2                                         1\\n2\\n3\\n4   \n",
       "3                      1\\n2\\n3\\n4\\n5\\n6\\n7\\n8\\n9\\n10   \n",
       "4  1\\n2\\n3\\n4\\n5\\n6\\n7\\n8\\n9\\n10\\n11\\n12\\n13\\n14\\...   \n",
       "5                                      1\\n2\\n3\\n4\\n5   \n",
       "\n",
       "                                          Unnamed: 3  \\\n",
       "1              Unique identifier for each respondent   \n",
       "2  Northeast Census Region\\nMidwest Census Region...   \n",
       "3  New England Census Division (CT, MA, ME, NH, R...   \n",
       "4  \\nConnecticut, Maine, New Hampshire, Rhode Isl...   \n",
       "5  Mobile Home\\nSingle-Family Detached\\nSingle-Fa...   \n",
       "\n",
       "  Variables in End-Use Models (see note at bottom) Unnamed: 5 Unnamed: 6  \\\n",
       "1                                              NaN        NaN        NaN   \n",
       "2                                              NaN        NaN        NaN   \n",
       "3                                              NaN        NaN        NaN   \n",
       "4                                              NaN        NaN        NaN   \n",
       "5                                            OTH_B      SPH_A        NaN   \n",
       "\n",
       "  Unnamed: 7 Unnamed: 8  \n",
       "1        NaN        NaN  \n",
       "2        NaN        NaN  \n",
       "3        NaN        NaN  \n",
       "4        NaN        NaN  \n",
       "5        NaN        NaN  "
      ]
     },
     "execution_count": 132,
     "metadata": {},
     "output_type": "execute_result"
    }
   ],
   "source": [
    "variable = pd.read_excel(\"recs2009_public_codebook.xlsx\", header = 1, skipfooter = 5)\n",
    "variable = variable[1:]\n",
    "variable[\"Variable Name\"] =  variable['Variable Name'].str.strip()\n",
    "variable.head()"
   ]
  },
  {
   "cell_type": "code",
   "execution_count": 133,
   "metadata": {},
   "outputs": [],
   "source": [
    "#Extract List of Numerical columns from variable codebook\n",
    "numerical_cols = variable[variable[\"Response Codes and Labels\"].str.contains(' - ', na=True)] #\n",
    "numerical_cols = numerical_cols[\"Variable Name\"].tolist()"
   ]
  },
  {
   "cell_type": "code",
   "execution_count": 134,
   "metadata": {},
   "outputs": [],
   "source": [
    "# Extract List boolean columns from variable codebook\n",
    "boolean_cols = variable[variable[\"Response Codes and Labels\"].isin(['0\\n1', '0\\n1\\n-2'])]\n",
    "boolean_cols = boolean_cols[~boolean_cols['Variable Name'].isin(imputation_cols)] #Columns that are not imputation flags since imputation_cols contain '0' and '1' values\n",
    "boolean_cols = boolean_cols['Variable Name'].tolist()"
   ]
  },
  {
   "cell_type": "code",
   "execution_count": 135,
   "metadata": {},
   "outputs": [],
   "source": [
    "# Extract List of categorical columns from variable cookbook\n",
    "categorical_cols = variable[variable[\"Response Codes and Labels\"].str.contains('\\n', na=False)]\n",
    "#All columns other than boolean and numerical are categorical columns\n",
    "categorical_cols = categorical_cols[~categorical_cols['Variable Name'].isin(numerical_cols)]\n",
    "categorical_cols = categorical_cols[~categorical_cols['Variable Name'].isin(boolean_cols)]\n",
    "categorical_cols = categorical_cols[~categorical_cols['Variable Name'].isin(imputation_cols)]\n",
    "categorical_cols = categorical_cols['Variable Name'].tolist()"
   ]
  },
  {
   "cell_type": "code",
   "execution_count": 136,
   "metadata": {},
   "outputs": [],
   "source": [
    "data[categorical_cols] = data[categorical_cols].astype('category')\n",
    "data[boolean_cols] = data[boolean_cols].astype('category')"
   ]
  },
  {
   "cell_type": "code",
   "execution_count": 137,
   "metadata": {},
   "outputs": [
    {
     "name": "stdout",
     "output_type": "stream",
     "text": [
      "[0]\n",
      "[0]\n"
     ]
    }
   ],
   "source": [
    "# Check if the data has null/NaN values\n",
    "print(data.isnull().sum().unique())\n",
    "print(data.isna().sum().unique())"
   ]
  },
  {
   "cell_type": "markdown",
   "metadata": {},
   "source": [
    "#### Convert boolean and categorical columns to dummy variables and concatenate them with the original dataframe. "
   ]
  },
  {
   "cell_type": "code",
   "execution_count": 138,
   "metadata": {},
   "outputs": [],
   "source": [
    "dummies = pd.get_dummies(data[boolean_cols], drop_first=True)\n",
    "df = data.drop(boolean_cols,axis=1)\n",
    "df = pd.concat([df,dummies],axis=1)"
   ]
  },
  {
   "cell_type": "code",
   "execution_count": 139,
   "metadata": {},
   "outputs": [],
   "source": [
    "dummies2 = pd.get_dummies(data[categorical_cols], drop_first=True)\n",
    "df = data.drop(categorical_cols,axis=1)\n",
    "df = pd.concat([df,dummies2],axis=1)"
   ]
  },
  {
   "cell_type": "code",
   "execution_count": 140,
   "metadata": {},
   "outputs": [
    {
     "data": {
      "text/html": [
       "<div>\n",
       "<style scoped>\n",
       "    .dataframe tbody tr th:only-of-type {\n",
       "        vertical-align: middle;\n",
       "    }\n",
       "\n",
       "    .dataframe tbody tr th {\n",
       "        vertical-align: top;\n",
       "    }\n",
       "\n",
       "    .dataframe thead th {\n",
       "        text-align: right;\n",
       "    }\n",
       "</style>\n",
       "<table border=\"1\" class=\"dataframe\">\n",
       "  <thead>\n",
       "    <tr style=\"text-align: right;\">\n",
       "      <th></th>\n",
       "      <th>DOEID</th>\n",
       "      <th>NWEIGHT</th>\n",
       "      <th>HDD65</th>\n",
       "      <th>CDD65</th>\n",
       "      <th>HDD30YR</th>\n",
       "      <th>CDD30YR</th>\n",
       "      <th>YEARMADE</th>\n",
       "      <th>ORIG1FAM</th>\n",
       "      <th>NUMFLRS</th>\n",
       "      <th>NUMAPTS</th>\n",
       "      <th>...</th>\n",
       "      <th>IECC_Climate_Pub_2B</th>\n",
       "      <th>IECC_Climate_Pub_3A</th>\n",
       "      <th>IECC_Climate_Pub_3B-4B</th>\n",
       "      <th>IECC_Climate_Pub_3C</th>\n",
       "      <th>IECC_Climate_Pub_4A</th>\n",
       "      <th>IECC_Climate_Pub_4C</th>\n",
       "      <th>IECC_Climate_Pub_5A</th>\n",
       "      <th>IECC_Climate_Pub_5B-5C</th>\n",
       "      <th>IECC_Climate_Pub_6A-6B</th>\n",
       "      <th>IECC_Climate_Pub_7A-7B-7AK-8AK</th>\n",
       "    </tr>\n",
       "  </thead>\n",
       "  <tbody>\n",
       "    <tr>\n",
       "      <th>0</th>\n",
       "      <td>1</td>\n",
       "      <td>2471.68</td>\n",
       "      <td>4742</td>\n",
       "      <td>1080</td>\n",
       "      <td>4953</td>\n",
       "      <td>1271</td>\n",
       "      <td>2004</td>\n",
       "      <td>-2</td>\n",
       "      <td>-2</td>\n",
       "      <td>-2</td>\n",
       "      <td>...</td>\n",
       "      <td>0</td>\n",
       "      <td>0</td>\n",
       "      <td>0</td>\n",
       "      <td>0</td>\n",
       "      <td>1</td>\n",
       "      <td>0</td>\n",
       "      <td>0</td>\n",
       "      <td>0</td>\n",
       "      <td>0</td>\n",
       "      <td>0</td>\n",
       "    </tr>\n",
       "    <tr>\n",
       "      <th>1</th>\n",
       "      <td>2</td>\n",
       "      <td>8599.17</td>\n",
       "      <td>2662</td>\n",
       "      <td>199</td>\n",
       "      <td>2688</td>\n",
       "      <td>143</td>\n",
       "      <td>1998</td>\n",
       "      <td>-2</td>\n",
       "      <td>-2</td>\n",
       "      <td>-2</td>\n",
       "      <td>...</td>\n",
       "      <td>0</td>\n",
       "      <td>0</td>\n",
       "      <td>0</td>\n",
       "      <td>1</td>\n",
       "      <td>0</td>\n",
       "      <td>0</td>\n",
       "      <td>0</td>\n",
       "      <td>0</td>\n",
       "      <td>0</td>\n",
       "      <td>0</td>\n",
       "    </tr>\n",
       "    <tr>\n",
       "      <th>2</th>\n",
       "      <td>3</td>\n",
       "      <td>8969.92</td>\n",
       "      <td>6233</td>\n",
       "      <td>505</td>\n",
       "      <td>5741</td>\n",
       "      <td>829</td>\n",
       "      <td>1965</td>\n",
       "      <td>-2</td>\n",
       "      <td>2</td>\n",
       "      <td>8</td>\n",
       "      <td>...</td>\n",
       "      <td>0</td>\n",
       "      <td>0</td>\n",
       "      <td>0</td>\n",
       "      <td>0</td>\n",
       "      <td>0</td>\n",
       "      <td>0</td>\n",
       "      <td>1</td>\n",
       "      <td>0</td>\n",
       "      <td>0</td>\n",
       "      <td>0</td>\n",
       "    </tr>\n",
       "    <tr>\n",
       "      <th>3</th>\n",
       "      <td>4</td>\n",
       "      <td>18003.64</td>\n",
       "      <td>6034</td>\n",
       "      <td>672</td>\n",
       "      <td>5781</td>\n",
       "      <td>868</td>\n",
       "      <td>1985</td>\n",
       "      <td>-2</td>\n",
       "      <td>-2</td>\n",
       "      <td>-2</td>\n",
       "      <td>...</td>\n",
       "      <td>0</td>\n",
       "      <td>0</td>\n",
       "      <td>0</td>\n",
       "      <td>0</td>\n",
       "      <td>0</td>\n",
       "      <td>0</td>\n",
       "      <td>1</td>\n",
       "      <td>0</td>\n",
       "      <td>0</td>\n",
       "      <td>0</td>\n",
       "    </tr>\n",
       "    <tr>\n",
       "      <th>4</th>\n",
       "      <td>5</td>\n",
       "      <td>5999.61</td>\n",
       "      <td>5388</td>\n",
       "      <td>702</td>\n",
       "      <td>5313</td>\n",
       "      <td>797</td>\n",
       "      <td>1983</td>\n",
       "      <td>-2</td>\n",
       "      <td>-2</td>\n",
       "      <td>-2</td>\n",
       "      <td>...</td>\n",
       "      <td>0</td>\n",
       "      <td>0</td>\n",
       "      <td>0</td>\n",
       "      <td>0</td>\n",
       "      <td>0</td>\n",
       "      <td>0</td>\n",
       "      <td>1</td>\n",
       "      <td>0</td>\n",
       "      <td>0</td>\n",
       "      <td>0</td>\n",
       "    </tr>\n",
       "    <tr>\n",
       "      <th>...</th>\n",
       "      <td>...</td>\n",
       "      <td>...</td>\n",
       "      <td>...</td>\n",
       "      <td>...</td>\n",
       "      <td>...</td>\n",
       "      <td>...</td>\n",
       "      <td>...</td>\n",
       "      <td>...</td>\n",
       "      <td>...</td>\n",
       "      <td>...</td>\n",
       "      <td>...</td>\n",
       "      <td>...</td>\n",
       "      <td>...</td>\n",
       "      <td>...</td>\n",
       "      <td>...</td>\n",
       "      <td>...</td>\n",
       "      <td>...</td>\n",
       "      <td>...</td>\n",
       "      <td>...</td>\n",
       "      <td>...</td>\n",
       "      <td>...</td>\n",
       "    </tr>\n",
       "    <tr>\n",
       "      <th>12078</th>\n",
       "      <td>12079</td>\n",
       "      <td>10219.80</td>\n",
       "      <td>7671</td>\n",
       "      <td>332</td>\n",
       "      <td>7784</td>\n",
       "      <td>451</td>\n",
       "      <td>1985</td>\n",
       "      <td>-2</td>\n",
       "      <td>-2</td>\n",
       "      <td>-2</td>\n",
       "      <td>...</td>\n",
       "      <td>0</td>\n",
       "      <td>0</td>\n",
       "      <td>0</td>\n",
       "      <td>0</td>\n",
       "      <td>0</td>\n",
       "      <td>0</td>\n",
       "      <td>0</td>\n",
       "      <td>0</td>\n",
       "      <td>1</td>\n",
       "      <td>0</td>\n",
       "    </tr>\n",
       "    <tr>\n",
       "      <th>12079</th>\n",
       "      <td>12080</td>\n",
       "      <td>8689.07</td>\n",
       "      <td>2085</td>\n",
       "      <td>2844</td>\n",
       "      <td>2520</td>\n",
       "      <td>2286</td>\n",
       "      <td>1980</td>\n",
       "      <td>-2</td>\n",
       "      <td>-2</td>\n",
       "      <td>-2</td>\n",
       "      <td>...</td>\n",
       "      <td>0</td>\n",
       "      <td>0</td>\n",
       "      <td>1</td>\n",
       "      <td>0</td>\n",
       "      <td>0</td>\n",
       "      <td>0</td>\n",
       "      <td>0</td>\n",
       "      <td>0</td>\n",
       "      <td>0</td>\n",
       "      <td>0</td>\n",
       "    </tr>\n",
       "    <tr>\n",
       "      <th>12080</th>\n",
       "      <td>12081</td>\n",
       "      <td>4697.21</td>\n",
       "      <td>7935</td>\n",
       "      <td>472</td>\n",
       "      <td>8074</td>\n",
       "      <td>600</td>\n",
       "      <td>1993</td>\n",
       "      <td>-2</td>\n",
       "      <td>-2</td>\n",
       "      <td>-2</td>\n",
       "      <td>...</td>\n",
       "      <td>0</td>\n",
       "      <td>0</td>\n",
       "      <td>0</td>\n",
       "      <td>0</td>\n",
       "      <td>0</td>\n",
       "      <td>0</td>\n",
       "      <td>0</td>\n",
       "      <td>0</td>\n",
       "      <td>1</td>\n",
       "      <td>0</td>\n",
       "    </tr>\n",
       "    <tr>\n",
       "      <th>12081</th>\n",
       "      <td>12082</td>\n",
       "      <td>13155.68</td>\n",
       "      <td>5834</td>\n",
       "      <td>770</td>\n",
       "      <td>5989</td>\n",
       "      <td>957</td>\n",
       "      <td>1930</td>\n",
       "      <td>-2</td>\n",
       "      <td>-2</td>\n",
       "      <td>-2</td>\n",
       "      <td>...</td>\n",
       "      <td>0</td>\n",
       "      <td>0</td>\n",
       "      <td>0</td>\n",
       "      <td>0</td>\n",
       "      <td>0</td>\n",
       "      <td>0</td>\n",
       "      <td>0</td>\n",
       "      <td>1</td>\n",
       "      <td>0</td>\n",
       "      <td>0</td>\n",
       "    </tr>\n",
       "    <tr>\n",
       "      <th>12082</th>\n",
       "      <td>12083</td>\n",
       "      <td>7703.43</td>\n",
       "      <td>2806</td>\n",
       "      <td>124</td>\n",
       "      <td>2859</td>\n",
       "      <td>139</td>\n",
       "      <td>1948</td>\n",
       "      <td>-2</td>\n",
       "      <td>-2</td>\n",
       "      <td>-2</td>\n",
       "      <td>...</td>\n",
       "      <td>0</td>\n",
       "      <td>0</td>\n",
       "      <td>0</td>\n",
       "      <td>1</td>\n",
       "      <td>0</td>\n",
       "      <td>0</td>\n",
       "      <td>0</td>\n",
       "      <td>0</td>\n",
       "      <td>0</td>\n",
       "      <td>0</td>\n",
       "    </tr>\n",
       "  </tbody>\n",
       "</table>\n",
       "<p>12083 rows × 1483 columns</p>\n",
       "</div>"
      ],
      "text/plain": [
       "       DOEID   NWEIGHT  HDD65  CDD65  HDD30YR  CDD30YR  YEARMADE ORIG1FAM  \\\n",
       "0          1   2471.68   4742   1080     4953     1271      2004       -2   \n",
       "1          2   8599.17   2662    199     2688      143      1998       -2   \n",
       "2          3   8969.92   6233    505     5741      829      1965       -2   \n",
       "3          4  18003.64   6034    672     5781      868      1985       -2   \n",
       "4          5   5999.61   5388    702     5313      797      1983       -2   \n",
       "...      ...       ...    ...    ...      ...      ...       ...      ...   \n",
       "12078  12079  10219.80   7671    332     7784      451      1985       -2   \n",
       "12079  12080   8689.07   2085   2844     2520     2286      1980       -2   \n",
       "12080  12081   4697.21   7935    472     8074      600      1993       -2   \n",
       "12081  12082  13155.68   5834    770     5989      957      1930       -2   \n",
       "12082  12083   7703.43   2806    124     2859      139      1948       -2   \n",
       "\n",
       "       NUMFLRS  NUMAPTS  ... IECC_Climate_Pub_2B  IECC_Climate_Pub_3A  \\\n",
       "0           -2       -2  ...                   0                    0   \n",
       "1           -2       -2  ...                   0                    0   \n",
       "2            2        8  ...                   0                    0   \n",
       "3           -2       -2  ...                   0                    0   \n",
       "4           -2       -2  ...                   0                    0   \n",
       "...        ...      ...  ...                 ...                  ...   \n",
       "12078       -2       -2  ...                   0                    0   \n",
       "12079       -2       -2  ...                   0                    0   \n",
       "12080       -2       -2  ...                   0                    0   \n",
       "12081       -2       -2  ...                   0                    0   \n",
       "12082       -2       -2  ...                   0                    0   \n",
       "\n",
       "      IECC_Climate_Pub_3B-4B  IECC_Climate_Pub_3C  IECC_Climate_Pub_4A  \\\n",
       "0                          0                    0                    1   \n",
       "1                          0                    1                    0   \n",
       "2                          0                    0                    0   \n",
       "3                          0                    0                    0   \n",
       "4                          0                    0                    0   \n",
       "...                      ...                  ...                  ...   \n",
       "12078                      0                    0                    0   \n",
       "12079                      1                    0                    0   \n",
       "12080                      0                    0                    0   \n",
       "12081                      0                    0                    0   \n",
       "12082                      0                    1                    0   \n",
       "\n",
       "       IECC_Climate_Pub_4C  IECC_Climate_Pub_5A  IECC_Climate_Pub_5B-5C  \\\n",
       "0                        0                    0                       0   \n",
       "1                        0                    0                       0   \n",
       "2                        0                    1                       0   \n",
       "3                        0                    1                       0   \n",
       "4                        0                    1                       0   \n",
       "...                    ...                  ...                     ...   \n",
       "12078                    0                    0                       0   \n",
       "12079                    0                    0                       0   \n",
       "12080                    0                    0                       0   \n",
       "12081                    0                    0                       1   \n",
       "12082                    0                    0                       0   \n",
       "\n",
       "      IECC_Climate_Pub_6A-6B IECC_Climate_Pub_7A-7B-7AK-8AK  \n",
       "0                          0                              0  \n",
       "1                          0                              0  \n",
       "2                          0                              0  \n",
       "3                          0                              0  \n",
       "4                          0                              0  \n",
       "...                      ...                            ...  \n",
       "12078                      1                              0  \n",
       "12079                      0                              0  \n",
       "12080                      1                              0  \n",
       "12081                      0                              0  \n",
       "12082                      0                              0  \n",
       "\n",
       "[12083 rows x 1483 columns]"
      ]
     },
     "execution_count": 140,
     "metadata": {},
     "output_type": "execute_result"
    }
   ],
   "source": [
    "df"
   ]
  },
  {
   "cell_type": "code",
   "execution_count": 141,
   "metadata": {},
   "outputs": [
    {
     "data": {
      "text/plain": [
       "0        18466\n",
       "1         5148\n",
       "2         2218\n",
       "3        10015\n",
       "4         2869\n",
       "         ...  \n",
       "12078     7647\n",
       "12079     1813\n",
       "12080     9834\n",
       "12081     4800\n",
       "12082     1764\n",
       "Name: KWH, Length: 12083, dtype: int64"
      ]
     },
     "execution_count": 141,
     "metadata": {},
     "output_type": "execute_result"
    }
   ],
   "source": [
    "df['KWH']"
   ]
  },
  {
   "cell_type": "code",
   "execution_count": 142,
   "metadata": {},
   "outputs": [],
   "source": [
    "df[numerical_cols] = df[numerical_cols].replace({'.': None})"
   ]
  },
  {
   "cell_type": "code",
   "execution_count": 143,
   "metadata": {},
   "outputs": [],
   "source": [
    "# Drop rest of the null/NaN values\n",
    "df = df.dropna()"
   ]
  },
  {
   "cell_type": "code",
   "execution_count": 144,
   "metadata": {},
   "outputs": [],
   "source": [
    "# Determine the feature Variables and target variable from the dataframe\n",
    "features = df.drop(\"KWH\", axis = 1)\n",
    "features = df.drop(\"DOEID\", axis = 1) # Drop the DOEID column as it is the ID and does not affect the model in anyway\n",
    "target = df[\"KWH\"]"
   ]
  },
  {
   "cell_type": "code",
   "execution_count": 145,
   "metadata": {},
   "outputs": [],
   "source": [
    "# Split the Feature vectors and target vector in training and testing data\n",
    "X_train, X_test, y_train, y_test = train_test_split(features, target, test_size=0.3, random_state=101)"
   ]
  },
  {
   "cell_type": "code",
   "execution_count": 146,
   "metadata": {},
   "outputs": [
    {
     "data": {
      "text/plain": [
       "array([0])"
      ]
     },
     "execution_count": 146,
     "metadata": {},
     "output_type": "execute_result"
    }
   ],
   "source": [
    "X_train.isnull().sum().unique()"
   ]
  },
  {
   "cell_type": "code",
   "execution_count": 147,
   "metadata": {},
   "outputs": [
    {
     "data": {
      "text/plain": [
       "4643     9540\n",
       "1525    17031\n",
       "7422    22105\n",
       "3070     4631\n",
       "3900    38871\n",
       "        ...  \n",
       "4486    12693\n",
       "8410     8740\n",
       "3482     7545\n",
       "3254     4448\n",
       "8750    12200\n",
       "Name: KWH, Length: 3625, dtype: int64"
      ]
     },
     "execution_count": 147,
     "metadata": {},
     "output_type": "execute_result"
    }
   ],
   "source": [
    "y_test"
   ]
  },
  {
   "cell_type": "code",
   "execution_count": 462,
   "metadata": {},
   "outputs": [],
   "source": [
    "# This function takes in the feature vectors and standardizes with StandardScaler with mean 0 and variance 1.\n",
    "def dataScaler(data):\n",
    "    scaler = StandardScaler()\n",
    "    data_scaled = scaler.fit_transform(data)\n",
    "    return data_scaled"
   ]
  },
  {
   "cell_type": "code",
   "execution_count": 469,
   "metadata": {},
   "outputs": [],
   "source": [
    "X_train_scaled = dataScaler(X_train)\n",
    "X_test_scaled = dataScaler(X_test)"
   ]
  },
  {
   "cell_type": "code",
   "execution_count": 470,
   "metadata": {},
   "outputs": [
    {
     "data": {
      "text/plain": [
       "array([[-0.60983406, -1.53363878,  2.07411683, ..., -0.20183771,\n",
       "        -0.29854533, -0.10545336],\n",
       "       [ 1.38874379, -0.10929327,  0.27295064, ..., -0.20183771,\n",
       "        -0.29854533, -0.10545336],\n",
       "       [-0.82741202,  1.73570492, -0.90099216, ..., -0.20183771,\n",
       "         3.34957507, -0.10545336],\n",
       "       ...,\n",
       "       [-0.49030018,  0.63051991, -0.64267166, ..., -0.20183771,\n",
       "        -0.29854533, -0.10545336],\n",
       "       [-0.57466667,  0.83004921, -0.70548247, ..., -0.20183771,\n",
       "        -0.29854533, -0.10545336],\n",
       "       [-1.17409339,  0.12737785,  0.03232333, ..., -0.20183771,\n",
       "        -0.29854533, -0.10545336]])"
      ]
     },
     "execution_count": 470,
     "metadata": {},
     "output_type": "execute_result"
    }
   ],
   "source": [
    "X_train_scaled"
   ]
  },
  {
   "cell_type": "code",
   "execution_count": 625,
   "metadata": {},
   "outputs": [
    {
     "data": {
      "text/plain": [
       "<seaborn.axisgrid.FacetGrid at 0x7fa0637e8d30>"
      ]
     },
     "execution_count": 625,
     "metadata": {},
     "output_type": "execute_result"
    },
    {
     "data": {
      "image/png": "[encoded data removed]",
      "text/plain": [
       "<Figure size 360x360 with 1 Axes>"
      ]
     },
     "metadata": {
      "needs_background": "light"
     },
     "output_type": "display_data"
    }
   ],
   "source": [
    "# Check to see if the training and testing target vectors share similar distribution.\n",
    "sns.displot(y_train)"
   ]
  },
  {
   "cell_type": "code",
   "execution_count": 465,
   "metadata": {},
   "outputs": [
    {
     "data": {
      "text/plain": [
       "<seaborn.axisgrid.FacetGrid at 0x7fa00f61ce80>"
      ]
     },
     "execution_count": 465,
     "metadata": {},
     "output_type": "execute_result"
    },
    {
     "data": {
      "image/png": "[encoded data removed]",
      "text/plain": [
       "<Figure size 360x360 with 1 Axes>"
      ]
     },
     "metadata": {
      "needs_background": "light"
     },
     "output_type": "display_data"
    }
   ],
   "source": [
    "sns.displot(y_test)"
   ]
  },
  {
   "cell_type": "markdown",
   "metadata": {},
   "source": [
    "Both distributions of target vectors in training and testing dataset exhibits similar patterns. Hence the data set is quite balanced and good for training a model based on it"
   ]
  },
  {
   "cell_type": "code",
   "execution_count": 605,
   "metadata": {},
   "outputs": [],
   "source": [
    "# This function is defined to perform calculation of perfomance metrics of the model predictors trained\n",
    "def performance_indicator(y_true, prediction):\n",
    "    \"\"\"\n",
    "    Takes True target values (y_test) and predicted value by each model and renders MAE, MSE, RMSE and R^2 score\n",
    "    metrics\n",
    "    \"\"\"\n",
    "    print('MAE:', metrics.mean_absolute_error(y_true, prediction))\n",
    "    print('MSE:', metrics.mean_squared_error(y_true, prediction))\n",
    "    print('RMSE:', np.sqrt(metrics.mean_squared_error(y_true, prediction)))\n",
    "    print('R2 score:', r2_score(y_true, prediction))"
   ]
  },
  {
   "cell_type": "markdown",
   "metadata": {},
   "source": [
    "### 3. Approach to Solution\n",
    "The given problem is a regression problem. For this problem 3 approaches from 3 different kind of Regression algorithms have been adopted and explored to train a predictor model. \n",
    "1. Ridge Linear Regression from Linear Models\n",
    "2. Random Forest Regression from Ensemble Models\n",
    "3. Artificial Neural Network based Deep learning Model.\n",
    "\n",
    "As performance indicators of all the 3 models, 4 metrics were explored namely:\n",
    "1. Mean Absolute Error\n",
    "2. Mean Squared Error\n",
    "3. Root Mean Squared Error\n",
    "4. R^2 score\n",
    "\n",
    "We will mainly look at the R^2 score as it is the best statistical variation indicator of two independent variable. We will calculate R^2 score of true target value and predicted value of \"KWH\" or electric consumption obtained from the trained predictor model.\n",
    "\n",
    "Then we will look at two plots to determine if the model is performing as modelled.\n",
    "1. Scatter plot of true target test value (y_test) and predicted value (prediction) from the model. If the scattered plots form a straight line visualization, then the model is said to be performing well with predictions on test data\n",
    "2. A distribution plot of (y_test - predicted value) to see the range where the differences of predicted value and true test value lies. If it is distrubuted on and sorrounding 0, meaning the model is performing well."
   ]
  },
  {
   "cell_type": "markdown",
   "metadata": {},
   "source": [
    "### Ridge Regression and it's performance analysis"
   ]
  },
  {
   "cell_type": "code",
   "execution_count": 576,
   "metadata": {},
   "outputs": [],
   "source": [
    "def ridge_regressor(alpha):\n",
    "    \"\"\"\n",
    "    Creates a Ridge regression model\n",
    "    Parameter:\n",
    "    alpha = Regularization strength; must be a positive float. Regularization\n",
    "    improves the conditioning of the problem and reduces the variance of\n",
    "    the estimates. Larger values specify stronger regularization.\n",
    "    \"\"\"\n",
    "    model = Ridge(alpha=alpha)\n",
    "    return model"
   ]
  },
  {
   "cell_type": "code",
   "execution_count": 577,
   "metadata": {},
   "outputs": [
    {
     "data": {
      "text/plain": [
       "Ridge(alpha=1)"
      ]
     },
     "execution_count": 577,
     "metadata": {},
     "output_type": "execute_result"
    }
   ],
   "source": [
    "ridge = ridge_regressor(alpha = 1)\n",
    "# Training on X_train scaled and corresponding target y_train\n",
    "ridge.fit(X_train_scaled, y_train)"
   ]
  },
  {
   "cell_type": "code",
   "execution_count": 578,
   "metadata": {},
   "outputs": [],
   "source": [
    "predictions = ridge.predict(X_test_scaled)"
   ]
  },
  {
   "cell_type": "code",
   "execution_count": 579,
   "metadata": {},
   "outputs": [
    {
     "name": "stdout",
     "output_type": "stream",
     "text": [
      "MAE: 292.3639254054427\n",
      "MSE: 172161.6571868893\n",
      "RMSE: 414.9236763392628\n",
      "R2 score: 0.9968343795999317\n"
     ]
    }
   ],
   "source": [
    "performance_indicator(y_test, predictions)"
   ]
  },
  {
   "cell_type": "code",
   "execution_count": 587,
   "metadata": {},
   "outputs": [
    {
     "data": {
      "text/plain": [
       "Text(0, 0.5, 'Predicted Y')"
      ]
     },
     "execution_count": 587,
     "metadata": {},
     "output_type": "execute_result"
    },
    {
     "data": {
      "image/png": "[encoded data removed]",
      "text/plain": [
       "<Figure size 432x288 with 1 Axes>"
      ]
     },
     "metadata": {
      "needs_background": "light"
     },
     "output_type": "display_data"
    }
   ],
   "source": [
    "#Scatter plot of true target test value (y_test) and predicted value (prediction) from the model.\n",
    "plt.scatter(y_test,predictions)\n",
    "plt.xlabel('Y Test')\n",
    "plt.ylabel('Predicted Y')"
   ]
  },
  {
   "cell_type": "code",
   "execution_count": 588,
   "metadata": {},
   "outputs": [
    {
     "name": "stderr",
     "output_type": "stream",
     "text": [
      "/Users/shadman/opt/anaconda3/lib/python3.8/site-packages/seaborn/distributions.py:2551: FutureWarning: `distplot` is a deprecated function and will be removed in a future version. Please adapt your code to use either `displot` (a figure-level function with similar flexibility) or `histplot` (an axes-level function for histograms).\n",
      "  warnings.warn(msg, FutureWarning)\n"
     ]
    },
    {
     "data": {
      "image/png": "[encoded data removed]",
      "text/plain": [
       "<Figure size 432x288 with 1 Axes>"
      ]
     },
     "metadata": {
      "needs_background": "light"
     },
     "output_type": "display_data"
    }
   ],
   "source": [
    "# Distribution plot of (y_test - predicted value) to see the range where the differences of predicted value and true test value lies. \n",
    "sns.distplot((y_test-predictions),bins=50);"
   ]
  },
  {
   "cell_type": "markdown",
   "metadata": {},
   "source": [
    "The distribution plot for Ridge Regressor is almost centered around zero showing most bins are on the negative side. This means the predicted values by the model are mostly slightly larger than the true target values. However, it can be concluded that the models performs really well with predicting the test dataset."
   ]
  },
  {
   "cell_type": "markdown",
   "metadata": {},
   "source": [
    "### Random Forest Regression and it's performance analysis"
   ]
  },
  {
   "cell_type": "code",
   "execution_count": 589,
   "metadata": {},
   "outputs": [],
   "source": [
    "def randomForest_regressor(n_estimators = 500):\n",
    "    \"\"\"\n",
    "    Creates and returns a Random forest regression model.\n",
    "    Parameter:\n",
    "    n_estimators = default 500\n",
    "    The number of trees in the forest\n",
    "    \"\"\"\n",
    "    model = RandomForestRegressor(oob_score = True,  \n",
    "    random_state = 42,\n",
    "    max_depth= 15, \n",
    "    min_samples_leaf= 1, \n",
    "    n_estimators= n_estimators)\n",
    "    return model"
   ]
  },
  {
   "cell_type": "code",
   "execution_count": 590,
   "metadata": {},
   "outputs": [
    {
     "data": {
      "text/plain": [
       "RandomForestRegressor(max_depth=15, n_estimators=500, oob_score=True,\n",
       "                      random_state=42)"
      ]
     },
     "execution_count": 590,
     "metadata": {},
     "output_type": "execute_result"
    }
   ],
   "source": [
    "#Creating and fitting the model on training data\n",
    "rfr = randomForest_regressor()\n",
    "rfr.fit(X_train_scaled, y_train)"
   ]
  },
  {
   "cell_type": "code",
   "execution_count": 591,
   "metadata": {},
   "outputs": [],
   "source": [
    "rfr_pred = rfr.predict(X_test_scaled)"
   ]
  },
  {
   "cell_type": "code",
   "execution_count": 592,
   "metadata": {},
   "outputs": [
    {
     "name": "stdout",
     "output_type": "stream",
     "text": [
      "MAE: 323.0946534846196\n",
      "MSE: 236599.66698578675\n",
      "RMSE: 486.4151179659065\n",
      "R2 score: 0.9956495264700751\n"
     ]
    }
   ],
   "source": [
    "performance_indicator(y_test, rfr_pred)"
   ]
  },
  {
   "cell_type": "code",
   "execution_count": 593,
   "metadata": {},
   "outputs": [
    {
     "data": {
      "text/plain": [
       "Text(0, 0.5, 'Predicted Y')"
      ]
     },
     "execution_count": 593,
     "metadata": {},
     "output_type": "execute_result"
    },
    {
     "data": {
      "image/png": "[encoded data removed]",
      "text/plain": [
       "<Figure size 432x288 with 1 Axes>"
      ]
     },
     "metadata": {
      "needs_background": "light"
     },
     "output_type": "display_data"
    }
   ],
   "source": [
    "# Scatter plot of true target test value (y_test) and predicted value (prediction) from the model.\n",
    "plt.scatter(y_test, rfr_pred)\n",
    "plt.xlabel('Y Test')\n",
    "plt.ylabel('Predicted Y')"
   ]
  },
  {
   "cell_type": "code",
   "execution_count": 594,
   "metadata": {},
   "outputs": [
    {
     "name": "stderr",
     "output_type": "stream",
     "text": [
      "/Users/shadman/opt/anaconda3/lib/python3.8/site-packages/seaborn/distributions.py:2551: FutureWarning: `distplot` is a deprecated function and will be removed in a future version. Please adapt your code to use either `displot` (a figure-level function with similar flexibility) or `histplot` (an axes-level function for histograms).\n",
      "  warnings.warn(msg, FutureWarning)\n"
     ]
    },
    {
     "data": {
      "image/png": "[encoded data removed]",
      "text/plain": [
       "<Figure size 432x288 with 1 Axes>"
      ]
     },
     "metadata": {
      "needs_background": "light"
     },
     "output_type": "display_data"
    }
   ],
   "source": [
    "# Distribution plot of (y_test - predicted value) to see the range where the differences of predicted value and true test value lies. \n",
    "sns.distplot((y_test-rfr_pred),bins=50);"
   ]
  },
  {
   "cell_type": "markdown",
   "metadata": {},
   "source": [
    "### Artificial Neural Network Based Deep Learning Model"
   ]
  },
  {
   "cell_type": "code",
   "execution_count": 621,
   "metadata": {},
   "outputs": [],
   "source": [
    "def ann_model(firstLayer, secondLayer, thirdLayer, fourthLayer, fifthLayer):\n",
    "    \"\"\"\n",
    "    This function creates a 6 layer ANN architecture model configured for this particular problem. It takes 5 arguments\n",
    "    which are the number of neurons for each layer other than the last layer.\n",
    "    \"\"\"\n",
    "    model = Sequential()\n",
    "\n",
    "    model.add(Dense(firstLayer, activation = 'relu'))\n",
    "    model.add(Dropout(0.5))\n",
    "\n",
    "    model.add(Dense(secondLayer, activation = 'relu'))\n",
    "    model.add(Dropout(0.5))\n",
    "\n",
    "    model.add(Dense(thirdLayer, activation = 'relu'))\n",
    "    model.add(Dropout(0.2))\n",
    "\n",
    "    model.add(Dense(fourthLayer, activation = 'relu'))\n",
    "    model.add(Dropout(0.2))\n",
    "    \n",
    "    model.add(Dense(fifthLayer, activation = 'relu'))\n",
    "    model.add(Dropout(0.2))\n",
    "    \n",
    "\n",
    "    model.add(Dense(1, kernel_initializer='normal', activation = 'linear'))\n",
    "    msle = MeanSquaredLogarithmicError()\n",
    "    model.compile(loss=msle, optimizer = 'adam', metrics=[msle])\n",
    "    \n",
    "    return model"
   ]
  },
  {
   "cell_type": "code",
   "execution_count": 622,
   "metadata": {},
   "outputs": [],
   "source": [
    "ann = ann_model(500, 250, 125, 50, 25)"
   ]
  },
  {
   "cell_type": "code",
   "execution_count": 623,
   "metadata": {},
   "outputs": [
    {
     "name": "stdout",
     "output_type": "stream",
     "text": [
      "Epoch 1/80\n",
      "34/34 [==============================] - 1s 19ms/step - loss: 54.5503 - mean_squared_logarithmic_error: 54.5070 - val_loss: 9.0335 - val_mean_squared_logarithmic_error: 9.0390\n",
      "Epoch 2/80\n",
      "34/34 [==============================] - 0s 10ms/step - loss: 6.1546 - mean_squared_logarithmic_error: 6.1501 - val_loss: 1.3187 - val_mean_squared_logarithmic_error: 1.3173\n",
      "Epoch 3/80\n",
      "34/34 [==============================] - 0s 9ms/step - loss: 1.0805 - mean_squared_logarithmic_error: 1.0794 - val_loss: 0.4529 - val_mean_squared_logarithmic_error: 0.4503\n",
      "Epoch 4/80\n",
      "34/34 [==============================] - 0s 9ms/step - loss: 0.4538 - mean_squared_logarithmic_error: 0.4534 - val_loss: 0.3250 - val_mean_squared_logarithmic_error: 0.3223\n",
      "Epoch 5/80\n",
      "34/34 [==============================] - 0s 9ms/step - loss: 0.3293 - mean_squared_logarithmic_error: 0.3290 - val_loss: 0.2647 - val_mean_squared_logarithmic_error: 0.2619\n",
      "Epoch 6/80\n",
      "34/34 [==============================] - 0s 9ms/step - loss: 0.2801 - mean_squared_logarithmic_error: 0.2800 - val_loss: 0.2221 - val_mean_squared_logarithmic_error: 0.2191\n",
      "Epoch 7/80\n",
      "34/34 [==============================] - 0s 9ms/step - loss: 0.2250 - mean_squared_logarithmic_error: 0.2248 - val_loss: 0.1932 - val_mean_squared_logarithmic_error: 0.1899\n",
      "Epoch 8/80\n",
      "34/34 [==============================] - 0s 9ms/step - loss: 0.2010 - mean_squared_logarithmic_error: 0.2009 - val_loss: 0.1722 - val_mean_squared_logarithmic_error: 0.1689\n",
      "Epoch 9/80\n",
      "34/34 [==============================] - 0s 9ms/step - loss: 0.1752 - mean_squared_logarithmic_error: 0.1750 - val_loss: 0.1555 - val_mean_squared_logarithmic_error: 0.1524\n",
      "Epoch 10/80\n",
      "34/34 [==============================] - 0s 9ms/step - loss: 0.1660 - mean_squared_logarithmic_error: 0.1658 - val_loss: 0.1411 - val_mean_squared_logarithmic_error: 0.1382\n",
      "Epoch 11/80\n",
      "34/34 [==============================] - 0s 9ms/step - loss: 0.1523 - mean_squared_logarithmic_error: 0.1522 - val_loss: 0.1296 - val_mean_squared_logarithmic_error: 0.1269\n",
      "Epoch 12/80\n",
      "34/34 [==============================] - 0s 10ms/step - loss: 0.1333 - mean_squared_logarithmic_error: 0.1332 - val_loss: 0.1194 - val_mean_squared_logarithmic_error: 0.1168\n",
      "Epoch 13/80\n",
      "34/34 [==============================] - 0s 9ms/step - loss: 0.1223 - mean_squared_logarithmic_error: 0.1223 - val_loss: 0.1108 - val_mean_squared_logarithmic_error: 0.1083\n",
      "Epoch 14/80\n",
      "34/34 [==============================] - 0s 9ms/step - loss: 0.1198 - mean_squared_logarithmic_error: 0.1198 - val_loss: 0.1030 - val_mean_squared_logarithmic_error: 0.1005\n",
      "Epoch 15/80\n",
      "34/34 [==============================] - 0s 9ms/step - loss: 0.1082 - mean_squared_logarithmic_error: 0.1083 - val_loss: 0.0971 - val_mean_squared_logarithmic_error: 0.0947\n",
      "Epoch 16/80\n",
      "34/34 [==============================] - 0s 9ms/step - loss: 0.0997 - mean_squared_logarithmic_error: 0.0997 - val_loss: 0.0908 - val_mean_squared_logarithmic_error: 0.0885\n",
      "Epoch 17/80\n",
      "34/34 [==============================] - 0s 9ms/step - loss: 0.0915 - mean_squared_logarithmic_error: 0.0921 - val_loss: 0.0855 - val_mean_squared_logarithmic_error: 0.0832\n",
      "Epoch 18/80\n",
      "34/34 [==============================] - 0s 9ms/step - loss: 0.0905 - mean_squared_logarithmic_error: 0.0906 - val_loss: 0.0819 - val_mean_squared_logarithmic_error: 0.0797\n",
      "Epoch 19/80\n",
      "34/34 [==============================] - 0s 9ms/step - loss: 0.0840 - mean_squared_logarithmic_error: 0.0839 - val_loss: 0.0786 - val_mean_squared_logarithmic_error: 0.0764\n",
      "Epoch 20/80\n",
      "34/34 [==============================] - 0s 9ms/step - loss: 0.0801 - mean_squared_logarithmic_error: 0.0801 - val_loss: 0.0752 - val_mean_squared_logarithmic_error: 0.0731\n",
      "Epoch 21/80\n",
      "34/34 [==============================] - 0s 9ms/step - loss: 0.0732 - mean_squared_logarithmic_error: 0.0731 - val_loss: 0.0727 - val_mean_squared_logarithmic_error: 0.0706\n",
      "Epoch 22/80\n",
      "34/34 [==============================] - 0s 9ms/step - loss: 0.0731 - mean_squared_logarithmic_error: 0.0730 - val_loss: 0.0701 - val_mean_squared_logarithmic_error: 0.0680\n",
      "Epoch 23/80\n",
      "34/34 [==============================] - 0s 9ms/step - loss: 0.0671 - mean_squared_logarithmic_error: 0.0671 - val_loss: 0.0679 - val_mean_squared_logarithmic_error: 0.0659\n",
      "Epoch 24/80\n",
      "34/34 [==============================] - 0s 10ms/step - loss: 0.0704 - mean_squared_logarithmic_error: 0.0704 - val_loss: 0.0657 - val_mean_squared_logarithmic_error: 0.0638\n",
      "Epoch 25/80\n",
      "34/34 [==============================] - 0s 10ms/step - loss: 0.0673 - mean_squared_logarithmic_error: 0.0673 - val_loss: 0.0643 - val_mean_squared_logarithmic_error: 0.0625\n",
      "Epoch 26/80\n",
      "34/34 [==============================] - 0s 9ms/step - loss: 0.0686 - mean_squared_logarithmic_error: 0.0686 - val_loss: 0.0627 - val_mean_squared_logarithmic_error: 0.0609\n",
      "Epoch 27/80\n",
      "34/34 [==============================] - 0s 9ms/step - loss: 0.0637 - mean_squared_logarithmic_error: 0.0638 - val_loss: 0.0615 - val_mean_squared_logarithmic_error: 0.0598\n",
      "Epoch 28/80\n",
      "34/34 [==============================] - 0s 10ms/step - loss: 0.0616 - mean_squared_logarithmic_error: 0.0618 - val_loss: 0.0606 - val_mean_squared_logarithmic_error: 0.0588\n",
      "Epoch 29/80\n",
      "34/34 [==============================] - 0s 9ms/step - loss: 0.0605 - mean_squared_logarithmic_error: 0.0606 - val_loss: 0.0601 - val_mean_squared_logarithmic_error: 0.0584\n",
      "Epoch 30/80\n",
      "34/34 [==============================] - 0s 9ms/step - loss: 0.0623 - mean_squared_logarithmic_error: 0.0623 - val_loss: 0.0590 - val_mean_squared_logarithmic_error: 0.0573\n",
      "Epoch 31/80\n",
      "34/34 [==============================] - 0s 9ms/step - loss: 0.0564 - mean_squared_logarithmic_error: 0.0564 - val_loss: 0.0577 - val_mean_squared_logarithmic_error: 0.0561\n",
      "Epoch 32/80\n",
      "34/34 [==============================] - 0s 9ms/step - loss: 0.0580 - mean_squared_logarithmic_error: 0.0580 - val_loss: 0.0572 - val_mean_squared_logarithmic_error: 0.0556\n",
      "Epoch 33/80\n",
      "34/34 [==============================] - 0s 9ms/step - loss: 0.0556 - mean_squared_logarithmic_error: 0.0557 - val_loss: 0.0569 - val_mean_squared_logarithmic_error: 0.0553\n",
      "Epoch 34/80\n",
      "34/34 [==============================] - 0s 9ms/step - loss: 0.0568 - mean_squared_logarithmic_error: 0.0568 - val_loss: 0.0563 - val_mean_squared_logarithmic_error: 0.0547\n",
      "Epoch 35/80\n",
      "34/34 [==============================] - 0s 9ms/step - loss: 0.0555 - mean_squared_logarithmic_error: 0.0555 - val_loss: 0.0555 - val_mean_squared_logarithmic_error: 0.0540\n",
      "Epoch 36/80\n",
      "34/34 [==============================] - 0s 10ms/step - loss: 0.0510 - mean_squared_logarithmic_error: 0.0509 - val_loss: 0.0547 - val_mean_squared_logarithmic_error: 0.0532\n",
      "Epoch 37/80\n",
      "34/34 [==============================] - 0s 9ms/step - loss: 0.0529 - mean_squared_logarithmic_error: 0.0529 - val_loss: 0.0542 - val_mean_squared_logarithmic_error: 0.0526\n",
      "Epoch 38/80\n",
      "34/34 [==============================] - 0s 10ms/step - loss: 0.0540 - mean_squared_logarithmic_error: 0.0540 - val_loss: 0.0536 - val_mean_squared_logarithmic_error: 0.0521\n",
      "Epoch 39/80\n",
      "34/34 [==============================] - 0s 9ms/step - loss: 0.0522 - mean_squared_logarithmic_error: 0.0522 - val_loss: 0.0532 - val_mean_squared_logarithmic_error: 0.0518\n",
      "Epoch 40/80\n",
      "34/34 [==============================] - 0s 10ms/step - loss: 0.0494 - mean_squared_logarithmic_error: 0.0495 - val_loss: 0.0530 - val_mean_squared_logarithmic_error: 0.0515\n",
      "Epoch 41/80\n",
      "34/34 [==============================] - 0s 9ms/step - loss: 0.0531 - mean_squared_logarithmic_error: 0.0531 - val_loss: 0.0526 - val_mean_squared_logarithmic_error: 0.0512\n",
      "Epoch 42/80\n",
      "34/34 [==============================] - 0s 10ms/step - loss: 0.0521 - mean_squared_logarithmic_error: 0.0520 - val_loss: 0.0524 - val_mean_squared_logarithmic_error: 0.0510\n",
      "Epoch 43/80\n",
      "34/34 [==============================] - 0s 9ms/step - loss: 0.0514 - mean_squared_logarithmic_error: 0.0515 - val_loss: 0.0525 - val_mean_squared_logarithmic_error: 0.0511\n",
      "Epoch 44/80\n",
      "34/34 [==============================] - 0s 9ms/step - loss: 0.0546 - mean_squared_logarithmic_error: 0.0545 - val_loss: 0.0515 - val_mean_squared_logarithmic_error: 0.0501\n",
      "Epoch 45/80\n"
     ]
    },
    {
     "name": "stdout",
     "output_type": "stream",
     "text": [
      "34/34 [==============================] - 0s 10ms/step - loss: 0.0524 - mean_squared_logarithmic_error: 0.0524 - val_loss: 0.0513 - val_mean_squared_logarithmic_error: 0.0499\n",
      "Epoch 46/80\n",
      "34/34 [==============================] - 0s 9ms/step - loss: 0.0499 - mean_squared_logarithmic_error: 0.0499 - val_loss: 0.0512 - val_mean_squared_logarithmic_error: 0.0499\n",
      "Epoch 47/80\n",
      "34/34 [==============================] - 0s 9ms/step - loss: 0.0490 - mean_squared_logarithmic_error: 0.0490 - val_loss: 0.0513 - val_mean_squared_logarithmic_error: 0.0500\n",
      "Epoch 48/80\n",
      "34/34 [==============================] - 0s 10ms/step - loss: 0.0503 - mean_squared_logarithmic_error: 0.0503 - val_loss: 0.0511 - val_mean_squared_logarithmic_error: 0.0498\n",
      "Epoch 49/80\n",
      "34/34 [==============================] - 0s 10ms/step - loss: 0.0494 - mean_squared_logarithmic_error: 0.0493 - val_loss: 0.0504 - val_mean_squared_logarithmic_error: 0.0492\n",
      "Epoch 50/80\n",
      "34/34 [==============================] - 0s 9ms/step - loss: 0.0465 - mean_squared_logarithmic_error: 0.0465 - val_loss: 0.0504 - val_mean_squared_logarithmic_error: 0.0491\n",
      "Epoch 51/80\n",
      "34/34 [==============================] - 0s 10ms/step - loss: 0.0471 - mean_squared_logarithmic_error: 0.0471 - val_loss: 0.0498 - val_mean_squared_logarithmic_error: 0.0485\n",
      "Epoch 52/80\n",
      "34/34 [==============================] - 0s 9ms/step - loss: 0.0468 - mean_squared_logarithmic_error: 0.0468 - val_loss: 0.0501 - val_mean_squared_logarithmic_error: 0.0488\n",
      "Epoch 53/80\n",
      "34/34 [==============================] - 0s 10ms/step - loss: 0.0479 - mean_squared_logarithmic_error: 0.0479 - val_loss: 0.0503 - val_mean_squared_logarithmic_error: 0.0490\n",
      "Epoch 54/80\n",
      "34/34 [==============================] - 0s 10ms/step - loss: 0.0460 - mean_squared_logarithmic_error: 0.0461 - val_loss: 0.0500 - val_mean_squared_logarithmic_error: 0.0487\n",
      "Epoch 55/80\n",
      "34/34 [==============================] - 0s 9ms/step - loss: 0.0477 - mean_squared_logarithmic_error: 0.0477 - val_loss: 0.0507 - val_mean_squared_logarithmic_error: 0.0493\n",
      "Epoch 56/80\n",
      "34/34 [==============================] - 0s 10ms/step - loss: 0.0456 - mean_squared_logarithmic_error: 0.0456 - val_loss: 0.0503 - val_mean_squared_logarithmic_error: 0.0491\n",
      "Epoch 57/80\n",
      "34/34 [==============================] - 0s 10ms/step - loss: 0.0469 - mean_squared_logarithmic_error: 0.0469 - val_loss: 0.0498 - val_mean_squared_logarithmic_error: 0.0486\n",
      "Epoch 58/80\n",
      "34/34 [==============================] - 0s 9ms/step - loss: 0.0454 - mean_squared_logarithmic_error: 0.0454 - val_loss: 0.0499 - val_mean_squared_logarithmic_error: 0.0487\n",
      "Epoch 59/80\n",
      "34/34 [==============================] - 0s 10ms/step - loss: 0.0458 - mean_squared_logarithmic_error: 0.0459 - val_loss: 0.0497 - val_mean_squared_logarithmic_error: 0.0483\n",
      "Epoch 60/80\n",
      "34/34 [==============================] - 0s 10ms/step - loss: 0.0462 - mean_squared_logarithmic_error: 0.0463 - val_loss: 0.0491 - val_mean_squared_logarithmic_error: 0.0478\n",
      "Epoch 61/80\n",
      "34/34 [==============================] - 0s 10ms/step - loss: 0.0481 - mean_squared_logarithmic_error: 0.0481 - val_loss: 0.0499 - val_mean_squared_logarithmic_error: 0.0485\n",
      "Epoch 62/80\n",
      "34/34 [==============================] - 0s 9ms/step - loss: 0.0470 - mean_squared_logarithmic_error: 0.0469 - val_loss: 0.0495 - val_mean_squared_logarithmic_error: 0.0481\n",
      "Epoch 63/80\n",
      "34/34 [==============================] - 0s 10ms/step - loss: 0.0449 - mean_squared_logarithmic_error: 0.0449 - val_loss: 0.0496 - val_mean_squared_logarithmic_error: 0.0483\n",
      "Epoch 64/80\n",
      "34/34 [==============================] - 0s 9ms/step - loss: 0.0469 - mean_squared_logarithmic_error: 0.0469 - val_loss: 0.0489 - val_mean_squared_logarithmic_error: 0.0475\n",
      "Epoch 65/80\n",
      "34/34 [==============================] - 0s 9ms/step - loss: 0.0444 - mean_squared_logarithmic_error: 0.0444 - val_loss: 0.0494 - val_mean_squared_logarithmic_error: 0.0480\n",
      "Epoch 66/80\n",
      "34/34 [==============================] - 0s 10ms/step - loss: 0.0442 - mean_squared_logarithmic_error: 0.0442 - val_loss: 0.0489 - val_mean_squared_logarithmic_error: 0.0474\n",
      "Epoch 67/80\n",
      "34/34 [==============================] - 0s 10ms/step - loss: 0.0446 - mean_squared_logarithmic_error: 0.0446 - val_loss: 0.0486 - val_mean_squared_logarithmic_error: 0.0473\n",
      "Epoch 68/80\n",
      "34/34 [==============================] - 0s 10ms/step - loss: 0.0457 - mean_squared_logarithmic_error: 0.0457 - val_loss: 0.0492 - val_mean_squared_logarithmic_error: 0.0479\n",
      "Epoch 69/80\n",
      "34/34 [==============================] - 0s 9ms/step - loss: 0.0455 - mean_squared_logarithmic_error: 0.0455 - val_loss: 0.0493 - val_mean_squared_logarithmic_error: 0.0481\n",
      "Epoch 70/80\n",
      "34/34 [==============================] - 0s 10ms/step - loss: 0.0448 - mean_squared_logarithmic_error: 0.0447 - val_loss: 0.0489 - val_mean_squared_logarithmic_error: 0.0477\n",
      "Epoch 71/80\n",
      "34/34 [==============================] - 0s 10ms/step - loss: 0.0435 - mean_squared_logarithmic_error: 0.0435 - val_loss: 0.0485 - val_mean_squared_logarithmic_error: 0.0472\n",
      "Epoch 72/80\n",
      "34/34 [==============================] - 0s 10ms/step - loss: 0.0446 - mean_squared_logarithmic_error: 0.0447 - val_loss: 0.0487 - val_mean_squared_logarithmic_error: 0.0474\n",
      "Epoch 73/80\n",
      "34/34 [==============================] - 0s 9ms/step - loss: 0.0434 - mean_squared_logarithmic_error: 0.0435 - val_loss: 0.0498 - val_mean_squared_logarithmic_error: 0.0485\n",
      "Epoch 74/80\n",
      "34/34 [==============================] - 0s 10ms/step - loss: 0.0456 - mean_squared_logarithmic_error: 0.0456 - val_loss: 0.0488 - val_mean_squared_logarithmic_error: 0.0474\n",
      "Epoch 75/80\n",
      "34/34 [==============================] - 0s 9ms/step - loss: 0.0442 - mean_squared_logarithmic_error: 0.0443 - val_loss: 0.0488 - val_mean_squared_logarithmic_error: 0.0475\n",
      "Epoch 76/80\n",
      "34/34 [==============================] - 0s 10ms/step - loss: 0.0434 - mean_squared_logarithmic_error: 0.0435 - val_loss: 0.0483 - val_mean_squared_logarithmic_error: 0.0470\n",
      "Epoch 77/80\n",
      "34/34 [==============================] - 0s 9ms/step - loss: 0.0459 - mean_squared_logarithmic_error: 0.0459 - val_loss: 0.0496 - val_mean_squared_logarithmic_error: 0.0481\n",
      "Epoch 78/80\n",
      "34/34 [==============================] - 0s 10ms/step - loss: 0.0455 - mean_squared_logarithmic_error: 0.0455 - val_loss: 0.0486 - val_mean_squared_logarithmic_error: 0.0471\n",
      "Epoch 79/80\n",
      "34/34 [==============================] - 0s 10ms/step - loss: 0.0455 - mean_squared_logarithmic_error: 0.0455 - val_loss: 0.0487 - val_mean_squared_logarithmic_error: 0.0472\n",
      "Epoch 80/80\n",
      "34/34 [==============================] - 0s 9ms/step - loss: 0.0428 - mean_squared_logarithmic_error: 0.0428 - val_loss: 0.0495 - val_mean_squared_logarithmic_error: 0.0480\n"
     ]
    },
    {
     "data": {
      "text/plain": [
       "<tensorflow.python.keras.callbacks.History at 0x7f9fa29a44f0>"
      ]
     },
     "execution_count": 623,
     "metadata": {},
     "output_type": "execute_result"
    }
   ],
   "source": [
    "ann.fit(x=X_train_scaled, y=y_train, epochs = 80, batch_size = 256, validation_data=(X_test_scaled, y_test))"
   ]
  },
  {
   "cell_type": "code",
   "execution_count": 624,
   "metadata": {},
   "outputs": [
    {
     "data": {
      "text/plain": [
       "<AxesSubplot:>"
      ]
     },
     "execution_count": 624,
     "metadata": {},
     "output_type": "execute_result"
    },
    {
     "data": {
      "image/png": "[encoded data removed]",
      "text/plain": [
       "<Figure size 432x288 with 1 Axes>"
      ]
     },
     "metadata": {
      "needs_background": "light"
     },
     "output_type": "display_data"
    }
   ],
   "source": [
    "# Plot to assess behavior of training loss and validation loss during training for each epoch to determine if the model\n",
    "# Over fitting or UnderFitting or Perfectly fitting\n",
    "losses = pd.DataFrame(ann.history.history)\n",
    "val = losses['val_loss'] - losses['loss']\n",
    "losses[['loss','val_loss']].plot()"
   ]
  },
  {
   "cell_type": "markdown",
   "metadata": {},
   "source": [
    "This ANN model is perfectly fitting. From the validation loss plot below we can determine how the validation loss decresed over the number of epochs. We can conclude that the major drop in validation loss during training happened within the first 6-7 epochs and then the rate of decrement is very minute. "
   ]
  },
  {
   "cell_type": "code",
   "execution_count": 612,
   "metadata": {},
   "outputs": [
    {
     "data": {
      "text/plain": [
       "<AxesSubplot:>"
      ]
     },
     "execution_count": 612,
     "metadata": {},
     "output_type": "execute_result"
    },
    {
     "data": {
      "image/png": "[encoded data removed]",
      "text/plain": [
       "<Figure size 432x288 with 1 Axes>"
      ]
     },
     "metadata": {
      "needs_background": "light"
     },
     "output_type": "display_data"
    }
   ],
   "source": [
    "val.plot()"
   ]
  },
  {
   "cell_type": "code",
   "execution_count": 614,
   "metadata": {},
   "outputs": [],
   "source": [
    "pred = ann.predict(X_test_scaled)"
   ]
  },
  {
   "cell_type": "code",
   "execution_count": 615,
   "metadata": {},
   "outputs": [
    {
     "name": "stdout",
     "output_type": "stream",
     "text": [
      "MAE: 981.4138421841326\n",
      "MSE: 2376045.290101384\n",
      "RMSE: 1541.44260032652\n",
      "R2 score: 0.9563104958169287\n"
     ]
    }
   ],
   "source": [
    "performance_indicator(y_test, pred)"
   ]
  },
  {
   "cell_type": "code",
   "execution_count": 616,
   "metadata": {},
   "outputs": [
    {
     "data": {
      "text/plain": [
       "Text(0, 0.5, 'Predicted Y')"
      ]
     },
     "execution_count": 616,
     "metadata": {},
     "output_type": "execute_result"
    },
    {
     "data": {
      "image/png": "[encoded data removed]",
      "text/plain": [
       "<Figure size 432x288 with 1 Axes>"
      ]
     },
     "metadata": {
      "needs_background": "light"
     },
     "output_type": "display_data"
    }
   ],
   "source": [
    "plt.scatter(y_test, pred)\n",
    "plt.xlabel('Y Test')\n",
    "plt.ylabel('Predicted Y')"
   ]
  },
  {
   "cell_type": "code",
   "execution_count": 619,
   "metadata": {},
   "outputs": [
    {
     "name": "stderr",
     "output_type": "stream",
     "text": [
      "/Users/shadman/opt/anaconda3/lib/python3.8/site-packages/seaborn/distributions.py:2551: FutureWarning: `distplot` is a deprecated function and will be removed in a future version. Please adapt your code to use either `displot` (a figure-level function with similar flexibility) or `histplot` (an axes-level function for histograms).\n",
      "  warnings.warn(msg, FutureWarning)\n"
     ]
    },
    {
     "data": {
      "image/png": "[encoded data removed]",
      "text/plain": [
       "<Figure size 432x288 with 1 Axes>"
      ]
     },
     "metadata": {
      "needs_background": "light"
     },
     "output_type": "display_data"
    }
   ],
   "source": [
    "sns.distplot((y_test-pred[0,:]),bins=50);"
   ]
  },
  {
   "cell_type": "markdown",
   "metadata": {},
   "source": [
    "The Distribution plot shows that the majority of predicted values by ANN model are slightly lower than the true test target value. "
   ]
  },
  {
   "cell_type": "markdown",
   "metadata": {},
   "source": [
    "### 4. Analysis and Conclusion\n",
    "From the performance indicators and the subsequent plots of the predicted and true values:\n",
    "\n",
    "1. The Ridge Regressor has the highest R^2 score of 0.9968 and lowest MAE of 292.36. However most of the predicted consumtion values are slightly higher than the true values.\n",
    "\n",
    "2. The Random Forest Regressors with 500 trees has the second highest R^2 score of 0.9956 and MAE of 323.09. Most of the predicted consumtion values are slightly higher than the true values for this model as well but the plot is slighly narrower than the plot for Ridge regression model.\n",
    "\n",
    "3. ANN model has the lowest R^2 score of 0.9563 and MAE of 981.41 which is the highest. The scatter plot with predicted and true value do show a more scattered but straight line visualtion. And the model seems to have mostly predicted slightly lower values than the target value. ANN model might be performing the worst of the 3 but this model can be improved to perform a lot better with more hyperparameter tuning and testing. This will render a more generalized model to predict the power consumption based on the given dataset.\n",
    "\n",
    "To conclude, as far as the performance indicators goes, Ridge Regression model has performed superiorly than others. Hence Ridge Regressor model should be chosen as the predictor for such problem given the dataset.\n",
    "\n"
   ]
  }
 ],
 "metadata": {
  "kernelspec": {
   "display_name": "Python 3",
   "language": "python",
   "name": "python3"
  },
  "language_info": {
   "codemirror_mode": {
    "name": "ipython",
    "version": 3
   },
   "file_extension": ".py",
   "mimetype": "text/x-python",
   "name": "python",
   "nbconvert_exporter": "python",
   "pygments_lexer": "ipython3",
   "version": "3.8.5"
  }
 },
 "nbformat": 4,
 "nbformat_minor": 4
}
